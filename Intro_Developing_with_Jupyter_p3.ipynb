{
 "cells": [
  {
   "cell_type": "markdown",
   "metadata": {},
   "source": [
    "# Introduction to Developing with Jupyter Notebooks\n",
    "#### Interactive Jupyter Notebook"
   ]
  },
  {
   "cell_type": "markdown",
   "metadata": {},
   "source": [
    "This notebook provides an introduction to <b>Jupyter Notebooks</b>, including an overview of the notebook interface and basic programing concepts. This notebook was created by Becky Vandewalle based on prior work by Dandong Yin."
   ]
  },
  {
   "cell_type": "markdown",
   "metadata": {},
   "source": [
    "## Notebook Outline:\n",
    "- [Introduction](#intro)\n",
    "- [Setup](#setup) (run this first!)\n",
    "- [The Jupyter Ecosystem](#eco)\n",
    "    - [Explore the Interface](#explore)\n",
    "    - [Command Mode and Edit Mode](#cmd_and_edit)\n",
    "    - [Common Keyboard Shortcuts](#shortcuts)\n",
    "    - [Markdown](#markdown)\n",
    "    - [HTML](#html)\n",
    "- [Using command-line tools](#command_line)\n",
    "    - [Linux file system basics](#linux_fs)\n",
    "    - [Permission control](#permissions)\n",
    "- [Next Steps](#next)"
   ]
  },
  {
   "cell_type": "markdown",
   "metadata": {},
   "source": [
    "<a id='intro'></a>\n",
    "## Introduction"
   ]
  },
  {
   "cell_type": "markdown",
   "metadata": {},
   "source": [
    "The Jupyter Notebook interface makes interactive computing easily accessible. It contains a web interface for dynamic programming and visualization and stores all the content in a file for reproducibility.\n",
    ">General documentation: https://jupyter.org/documentation\n",
    "<br>Introduction to the Jupyter Notebook: https://jupyter-notebook.readthedocs.io/en/stable/notebook.html\n",
    "<br>Jupyter Notebook Basics: https://jupyter-notebook.readthedocs.io/en/stable/examples/Notebook/Notebook%20Basics.html\n",
    "\n",
    "This notebook is an extension of the [Jupyter Notebook QuickStart Notebook](Jupyter_Notebook_QuickStart_p3.ipynb). While there will be some overlap, this Notebook includes much more detail on Notebook features."
   ]
  },
  {
   "cell_type": "markdown",
   "metadata": {},
   "source": [
    "<a id='setup'></a>\n",
    "## Setup\n",
    "Run this cell for the rest of the Notebook to work!"
   ]
  },
  {
   "cell_type": "code",
   "execution_count": 145,
   "metadata": {
    "scrolled": true
   },
   "outputs": [],
   "source": [
    "# import required libraries\n",
    "\n",
    "import os\n",
    "from IPython.display import Image\n",
    "\n",
    "\n",
    "\n",
    "#execfile(os.path.join('/share/pyintro_resources/','highlight_feats.py'))\n",
    "# Python 2 -> Python 3\n",
    "\n",
    "filename = 'pyintro_resources/highlight_feats.py'\n",
    "exec(compile(open(filename, \"rb\").read(), filename, 'exec'))\n"
   ]
  },
  {
   "cell_type": "markdown",
   "metadata": {},
   "source": [
    "<a id='eco'></a>\n",
    "## The Jupyter Ecosystem"
   ]
  },
  {
   "cell_type": "markdown",
   "metadata": {},
   "source": [
    "The Jupyter project has a variety of features that support and extend Jupyter Notebook functionality. Here we will focus on the <b>Jupyter Notebook</b>, which makes use of [IPython](https://ipython.readthedocs.io/en/stable/) for interactive scripting. Other programming languages can be used in a Jupyter Notebook through [kernels](https://jupyter.readthedocs.io/en/latest/projects/kernels.html) (IPython is a kernel maintained by Project Jupyter). Finally, [Widgets](https://ipywidgets.readthedocs.io/en/stable/examples/Widget%20Basics.html) can be used to create a graphic interface for interacting with scripts and displaying results. This is just a small part of the Jupyter Ecosystem - there is more to explore in future notebooks!"
   ]
  },
  {
   "cell_type": "markdown",
   "metadata": {},
   "source": [
    "<a id='explore'></a>\n",
    "### Explore the Interface"
   ]
  },
  {
   "cell_type": "markdown",
   "metadata": {},
   "source": [
    "Two key areas for working with Jupyter Notebooks are the <b>Notebook Dashboard</b>, where you work with files, folder, and notebooks, and the <b>Notebook Interface</b> itself. Check out some important features of the user interface using the widget below."
   ]
  },
  {
   "cell_type": "code",
   "execution_count": 146,
   "metadata": {
    "scrolled": false
   },
   "outputs": [
    {
     "data": {
      "application/vnd.jupyter.widget-view+json": {
       "model_id": "4052966abfd94c09a4ab947ef780dd4e",
       "version_major": 2,
       "version_minor": 0
      },
      "text/plain": [
       "Dropdown(description='Section:', options=('Select', 'Notebook Dashboard', 'Notebook', 'Notebook Cells'), value…"
      ]
     },
     "metadata": {},
     "output_type": "display_data"
    },
    {
     "data": {
      "application/vnd.jupyter.widget-view+json": {
       "model_id": "4a251a13425a4d5580efde3186057990",
       "version_major": 2,
       "version_minor": 0
      },
      "text/plain": [
       "RadioButtons(description='Features:', options=(), value=None)"
      ]
     },
     "metadata": {},
     "output_type": "display_data"
    },
    {
     "data": {
      "application/vnd.jupyter.widget-view+json": {
       "model_id": "91c12df71a6a4a619bb064aa82f0d353",
       "version_major": 2,
       "version_minor": 0
      },
      "text/plain": [
       "HTML(value='')"
      ]
     },
     "metadata": {},
     "output_type": "display_data"
    },
    {
     "data": {
      "application/vnd.jupyter.widget-view+json": {
       "model_id": "cae958b8a3e445f692442976d6048598",
       "version_major": 2,
       "version_minor": 0
      },
      "text/plain": [
       "Output()"
      ]
     },
     "metadata": {},
     "output_type": "display_data"
    }
   ],
   "source": [
    "# Select a feature to learn more\n",
    "\n",
    "hl_feats()"
   ]
  },
  {
   "cell_type": "markdown",
   "metadata": {},
   "source": [
    "<a id='cmd_and_edit'></a>\n",
    "### Command Mode and Edit Mode"
   ]
  },
  {
   "cell_type": "markdown",
   "metadata": {},
   "source": [
    "There are two <b>modes</b> that are used when working with a Jupyter Notebook, <b>Command Mode</b> and <b>Edit Mode</b>:"
   ]
  },
  {
   "cell_type": "markdown",
   "metadata": {},
   "source": [
    "<b>Command Mode</b>:\n",
    "- Cell has a <font color=\"grey\"><b>grey</b></font> background\n",
    "- You can edit features of the notebook as a whole, but not text within the selected cell\n",
    "\n",
    "Below is a cell in Command Mode:"
   ]
  },
  {
   "cell_type": "code",
   "execution_count": 147,
   "metadata": {
    "scrolled": true
   },
   "outputs": [
    {
     "data": {
      "image/png": "[encoded data removed]",
      "text/plain": [
       "<IPython.core.display.Image object>"
      ]
     },
     "execution_count": 147,
     "metadata": {},
     "output_type": "execute_result"
    }
   ],
   "source": [
    "Image(os.path.join('pyintro_resources/img', 'command_mode.png'))"
   ]
  },
  {
   "cell_type": "markdown",
   "metadata": {},
   "source": [
    "<b>Edit Mode</b>:\n",
    "- Cell has a <font color=\"blue\"><b>blue</b></font> border\n",
    "- You can enter text at the cursor position\n",
    "\n",
    "Below is a cell in Edit Mode. Note the cursor after the end of `world\")`."
   ]
  },
  {
   "cell_type": "code",
   "execution_count": 148,
   "metadata": {
    "scrolled": true
   },
   "outputs": [
    {
     "data": {
      "image/png": "[encoded data removed]",
      "text/plain": [
       "<IPython.core.display.Image object>"
      ]
     },
     "execution_count": 148,
     "metadata": {},
     "output_type": "execute_result"
    }
   ],
   "source": [
    "Image(os.path.join('pyintro_resources/img/edit_mode.png'))"
   ]
  },
  {
   "cell_type": "markdown",
   "metadata": {},
   "source": [
    "<b>Switching between Command and Edit modes</b>\n",
    "<br><br><b>Clicking in a cell</b> currently displayed with a grey box (a code cell) will take you to Edit Mode. <b>Double clicking</b> on a cell without a grey box (more on [Markdown cells](#markdown) later) will take you to Command Mode and clicking once more will take you to Edit Mode. <b>Pressing Esc</b> or <b>clicking outside the cell</b> while in Edit Mode will switch to Command Mode."
   ]
  },
  {
   "cell_type": "markdown",
   "metadata": {},
   "source": [
    "<a id='shortcuts'></a>\n",
    "### Common Keyboard Shortcuts"
   ]
  },
  {
   "cell_type": "markdown",
   "metadata": {},
   "source": [
    "A variety of keyboard shortcuts make editing a Notebook more efficient. Check the <b>Command Palette</b> (first item in the view tab) if you forget one. Also, keep in mind that these shortcuts are <b>mode sensitive</b> - they will often work differently in Command Mode vs Edit Mode. Try some of these out in the next few cells!\n",
    "\n",
    "The Command Palette is highlighted below:"
   ]
  },
  {
   "cell_type": "code",
   "execution_count": 149,
   "metadata": {
    "scrolled": true
   },
   "outputs": [
    {
     "data": {
      "image/png": "[encoded data removed]",
      "text/plain": [
       "<IPython.core.display.Image object>"
      ]
     },
     "execution_count": 149,
     "metadata": {},
     "output_type": "execute_result"
    }
   ],
   "source": [
    "Image(os.path.join('pyintro_resources/img', 'tool_bar_shortcut.png'))"
   ]
  },
  {
   "cell_type": "markdown",
   "metadata": {},
   "source": [
    "<b>Save</b>:\n",
    "<br><br>\n",
    "You can save the notebook by <b>hitting s</b> in Command Mode, by clicking the <b>Save button</b> on the toolbar, or by <b>File -> Save and Checkpoint</b>."
   ]
  },
  {
   "cell_type": "markdown",
   "metadata": {},
   "source": [
    "<b>Run Cell</b>:\n",
    "<br><br>\n",
    "You can run a cell by <b>hitting Enter</b> (or Shift+Return) in Command or Edit Mode. If the cell produces output, that will typically be displayed directly below the cell."
   ]
  },
  {
   "cell_type": "code",
   "execution_count": 150,
   "metadata": {
    "scrolled": true
   },
   "outputs": [
    {
     "name": "stdout",
     "output_type": "stream",
     "text": [
      "You ran this cell!\n"
     ]
    }
   ],
   "source": [
    "# run me!\n",
    "\n",
    "print('You ran this cell!')"
   ]
  },
  {
   "cell_type": "markdown",
   "metadata": {},
   "source": [
    "<b>Inserting a Cell Above the Current Cell</b>:\n",
    "<br><br>\n",
    "You can insert a cell above the currently selected cell by <b>hitting a</b> in Command Mode."
   ]
  },
  {
   "cell_type": "code",
   "execution_count": 151,
   "metadata": {
    "scrolled": true
   },
   "outputs": [],
   "source": [
    "# try to insert a new cell above this one"
   ]
  },
  {
   "cell_type": "markdown",
   "metadata": {},
   "source": [
    "<b>Inserting a Cell Below the Current Cell</b>:\n",
    "<br><br>\n",
    "You can insert a cell above the currently selected cell by <b>hitting b</b> in Command Mode."
   ]
  },
  {
   "cell_type": "code",
   "execution_count": 152,
   "metadata": {
    "scrolled": true
   },
   "outputs": [],
   "source": [
    "# try to insert a new cell below this one"
   ]
  },
  {
   "cell_type": "markdown",
   "metadata": {},
   "source": [
    "<b>Copy and Paste a Cell</b>:\n",
    "<br><br>\n",
    "You can copy a cell by <b>hitting c</b> in Command Mode and paste below the current cell by <b>hitting v</b> or paste above the current cell by <b>hitting Shift+v</b> in Command Mode."
   ]
  },
  {
   "cell_type": "code",
   "execution_count": 153,
   "metadata": {
    "scrolled": true
   },
   "outputs": [],
   "source": [
    "# Copy this cell - place the new cell --Above-- this one"
   ]
  },
  {
   "cell_type": "code",
   "execution_count": 154,
   "metadata": {
    "scrolled": true
   },
   "outputs": [],
   "source": [
    "# Copy this cell - place the new cell --Below-- this one"
   ]
  },
  {
   "cell_type": "markdown",
   "metadata": {},
   "source": [
    "<b>Delete a Cell</b>:\n",
    "\n",
    "You can delete a cell by <b>hitting d twice</b> in Command Mode."
   ]
  },
  {
   "cell_type": "code",
   "execution_count": 155,
   "metadata": {
    "scrolled": true
   },
   "outputs": [],
   "source": [
    "## Delete me!"
   ]
  },
  {
   "cell_type": "code",
   "execution_count": 156,
   "metadata": {
    "scrolled": true
   },
   "outputs": [],
   "source": [
    "## Delete me too!"
   ]
  },
  {
   "cell_type": "markdown",
   "metadata": {},
   "source": [
    "<b>Change a Cell Mode from Code to Markdown</b>:\n",
    "\n",
    "You can change a cell from code to markdown by <b>hitting m</b> in Command Mode. The cell below is a code cell - practice changing this cell to a markdown cell."
   ]
  },
  {
   "cell_type": "code",
   "execution_count": 157,
   "metadata": {
    "scrolled": true
   },
   "outputs": [],
   "source": [
    "#### Change me to Markdown!"
   ]
  },
  {
   "cell_type": "markdown",
   "metadata": {},
   "source": [
    "<b>Change a Cell Mode from Markdown to Code</b>:\n",
    "\n",
    "You can change a cell from code to markdown by <b>hitting y</b> in Command Mode (don't forget to double click on a Markdown Cell to edit it). The cell below is a markdown cell - practice changing this cell to a code cell (and run it)."
   ]
  },
  {
   "cell_type": "markdown",
   "metadata": {},
   "source": [
    "#### Change me to Code!\n",
    "\n",
    "print ('hello')"
   ]
  },
  {
   "cell_type": "markdown",
   "metadata": {},
   "source": [
    "<b>Using Tab</b>:\n",
    "\n",
    "The <b>Tab</b> key is good for giving <b>coding suggestions</b>. If you have a partially complete keyword or object name, Tab will suggest ways to complete the word. If you have a function, pressing Tab within the parentheses will show arguments."
   ]
  },
  {
   "cell_type": "code",
   "execution_count": 158,
   "metadata": {
    "scrolled": true
   },
   "outputs": [
    {
     "name": "stdout",
     "output_type": "stream",
     "text": [
      "\n"
     ]
    }
   ],
   "source": [
    "# first, remove the pound sign (#) before 'pr' below to uncomment the line\n",
    "# place the cursor after the 'r' and press tab to see possible words starting with 'pr'\n",
    "# !!note, running this cell with only 'pr' in the next line will raise an error because 'pr' is not complete!\n",
    "\n",
    "#pr\n",
    "\n",
    "# place the cursor in the parentheses and press tab to see arguments\n",
    "\n",
    "print()"
   ]
  },
  {
   "cell_type": "markdown",
   "metadata": {},
   "source": [
    "<a id='markdown'></a>\n",
    "### Markdown"
   ]
  },
  {
   "cell_type": "markdown",
   "metadata": {},
   "source": [
    "Markdown is a popular markup language for simple text formatting. This language is used in Markdown cells."
   ]
  },
  {
   "cell_type": "markdown",
   "metadata": {},
   "source": [
    "<b>Headings</b>:\n",
    "<br><br>\n",
    "Headings are useful to organize text. Place one or multiple <b># signs</b> in front of text at the beginning of a line to create a heading. Double click the next (markdown) cell to see how these headings are created."
   ]
  },
  {
   "cell_type": "markdown",
   "metadata": {},
   "source": [
    "# Big\n",
    "## Medium\n",
    "### Small\n",
    "#### Smaller\n",
    "##### Tiny\n",
    "<br>"
   ]
  },
  {
   "cell_type": "markdown",
   "metadata": {},
   "source": [
    "<b>Lists</b>:\n",
    "<br><br>\n",
    "Lists are very useful for organizing information. Markdown supports both <b>numbered</b> and <b>bulleted lists</b>. Double click the next two (markdown) cells to see how these lists are created. Note that the actual numbers entered in the numbered list are changed to be in order! Also, although you can continue to indent in a bulleted list, there are only so many symbols used."
   ]
  },
  {
   "cell_type": "markdown",
   "metadata": {},
   "source": [
    "<b>Numbered List</b>:\n",
    "1. Thing one\n",
    "4. Thing two\n",
    "3. Thing three\n",
    "\n",
    "\n",
    "2. Thing two again\n",
    "4. Thing three again"
   ]
  },
  {
   "cell_type": "markdown",
   "metadata": {},
   "source": [
    "<b>Bulleted List</b>:\n",
    "- Thing one\n",
    "    - Thing one a\n",
    "- Thing two\n",
    "    - Thing two a\n",
    "        - Thing two double a\n",
    "            - Too many things\n",
    "- Thing three"
   ]
  },
  {
   "cell_type": "markdown",
   "metadata": {},
   "source": [
    "<b>Links</b>:\n",
    "<br><br>\n",
    "Links help for referencing information. Create a link using <b>square brackets</b> followed by <b>parentheses</b>. You can link to a website, another file or notebook in your Notebook Dashboard, or even to another section of the current notebook. Double click the next (markdown) cell to see how these links are created."
   ]
  },
  {
   "cell_type": "markdown",
   "metadata": {},
   "source": [
    "[link to the Cybergis Center website](https://cybergis.illinois.edu/)\n",
    "<br>[link to an image](img/Jupyter_dashboard.png) (note path is relative to this notebook)\n",
    "<br>[link to a Markdown cell by header](#Markdown) (type heading after # for internal link)\n",
    "<br>[link to a Markdown cell by section id](#markdown) (link to HTML anchor in cell above Markdown heading)"
   ]
  },
  {
   "cell_type": "markdown",
   "metadata": {},
   "source": [
    "<b>Equations</b>:\n",
    "<br><br>\n",
    "Equations are written using <b>LaTeX</b>. Surrounding the equation with <b>one dollar sign ($)</b> on each end makes it inline. With <b>two dollar signs</b>, the equation is displayed on its own line. Double click the next (markdown) cell to see how these equations are created. Some symbols are found on the keyboard, like +, ^, and *. Others are formed using a slash followed by a text tag, like \\times.\n",
    ">See a list of LaTeX math symbols [here](https://artofproblemsolving.com/wiki/index.php/LaTeX:Symbols)"
   ]
  },
  {
   "cell_type": "markdown",
   "metadata": {},
   "source": [
    "Here is an inline equation $\\int^a_b \\frac{1}{3}x^3$ in the line. $$\\int^a_b \\frac{1}{3}x^3$$ The second equation is not inline."
   ]
  },
  {
   "cell_type": "markdown",
   "metadata": {},
   "source": [
    "<a id='html'></a>\n",
    "### HTML"
   ]
  },
  {
   "cell_type": "markdown",
   "metadata": {},
   "source": [
    "HTML tags can be used to adjust <b>text formatting</b>. Double click the next (markdown) cell to see some commonly used tags."
   ]
  },
  {
   "cell_type": "markdown",
   "metadata": {},
   "source": [
    "<b>bold text</b>, <i>italic text</i>\n",
    "<br><br>(line breaks above and below)\n",
    "<br><br>\n",
    "<font color=\"orange\"><b>text color</b></font>, \n",
    "<font size=6><b>text size</b></font>, \n",
    "<font face=\"garamond\" size=4><b>text font</b></font> "
   ]
  },
  {
   "cell_type": "markdown",
   "metadata": {},
   "source": [
    "<a id='command_line'></a>\n",
    "## Using command-line tools"
   ]
  },
  {
   "cell_type": "markdown",
   "metadata": {},
   "source": [
    "In a Jupyter Notebook, a cell starts with \"!\" is recognized as a Bash command. Below are some common commands:\n",
    "<br><br>\n",
    "- `ls`: list files and directories\n",
    "- `cd`: change current working directory\n",
    "- `pwd`: print current working directory\n",
    "- `head`: peek the first (10) lines of a file\n",
    "- `tail`: peek the last (10) lines of a file\n",
    "- `wc`: count a file (lines, words, etc.)\n",
    "- `file`: check the type of a file\n",
    "\n",
    "Try out a few commands below!"
   ]
  },
  {
   "cell_type": "code",
   "execution_count": 159,
   "metadata": {
    "scrolled": true
   },
   "outputs": [
    {
     "name": "stderr",
     "output_type": "stream",
     "text": [
      "'ls' is not recognized as an internal or external command,\n",
      "operable program or batch file.\n"
     ]
    }
   ],
   "source": [
    "!ls"
   ]
  },
  {
   "cell_type": "code",
   "execution_count": 160,
   "metadata": {
    "scrolled": true
   },
   "outputs": [
    {
     "name": "stderr",
     "output_type": "stream",
     "text": [
      "'pwd' is not recognized as an internal or external command,\n",
      "operable program or batch file.\n"
     ]
    }
   ],
   "source": [
    "!pwd"
   ]
  },
  {
   "cell_type": "markdown",
   "metadata": {},
   "source": [
    "<a id='linux_fs'></a>\n",
    "### Linux file system basics"
   ]
  },
  {
   "cell_type": "markdown",
   "metadata": {},
   "source": [
    "The Linux file system structure is set up like a tree. The root, /, is the top level container for all the other files and folders (called directories). Folders can be nested inside other folders. To show that one folder is within another, a slash separates the two folders, like: parent_folder/child_folder. This also is the case for files in a folder: myfolder/text.txt shows that the file text.txt is within myfolder.\n",
    "\n",
    "When you printed the current directory above using the <b>pwd</b> command, you should see a path starting with several folders (home, jovyan, and work)."
   ]
  },
  {
   "cell_type": "markdown",
   "metadata": {},
   "source": [
    "<a id='permissions'></a>\n",
    "### Permission control"
   ]
  },
  {
   "cell_type": "markdown",
   "metadata": {},
   "source": [
    "Any file or directory in the Linux file system has a set of permissions.\n",
    "\n",
    "There are 3 kinds of permissions (read, write, and execute) and 3 kinds of users (owner, group, and others). When you check file permissions, `r` is short for read, `w` for write and `x` for execute. Each set of three slots indicates whether these permissions are for the file `Owner`, `Group`, or `Others`.\n",
    "\n",
    "![](http://linuxcommand.org/images/file_permissions.png)\n",
    "\n",
    "\n",
    "Check permissions: `ls -l`\n",
    "\n",
    "Change permissions (for files you own): `chmod`\n",
    "\n",
    "Change ownership (for files you own): `chown`\n",
    "\n",
    "Change group (for files you own): `chgrp`\n",
    "\n",
    ">For more info: http://linuxcommand.org/lc3_lts0090.php"
   ]
  },
  {
   "cell_type": "code",
   "execution_count": 161,
   "metadata": {
    "scrolled": true
   },
   "outputs": [
    {
     "name": "stderr",
     "output_type": "stream",
     "text": [
      "'ls' is not recognized as an internal or external command,\n",
      "operable program or batch file.\n"
     ]
    }
   ],
   "source": [
    "!ls -l test_file.txt"
   ]
  },
  {
   "cell_type": "markdown",
   "metadata": {},
   "source": [
    "<a id='next'></a>\n",
    "## Next Steps"
   ]
  },
  {
   "cell_type": "markdown",
   "metadata": {},
   "source": [
    "Now that you are more familiar with the Jupyter Notebook environment, check out the Intro to Python Programming Notebook for an overview of programming with Python!"
   ]
  }
 ],
 "metadata": {
  "kernelspec": {
   "display_name": "Python 3",
   "language": "python",
   "name": "python3"
  },
  "language_info": {
   "codemirror_mode": {
    "name": "ipython",
    "version": 3
   },
   "file_extension": ".py",
   "mimetype": "text/x-python",
   "name": "python",
   "nbconvert_exporter": "python",
   "pygments_lexer": "ipython3",
   "version": "3.10.2"
  }
 },
 "nbformat": 4,
 "nbformat_minor": 2
}
